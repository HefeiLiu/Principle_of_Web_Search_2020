{
 "cells": [
  {
   "cell_type": "code",
   "execution_count": 15,
   "metadata": {},
   "outputs": [],
   "source": [
    "import requests  \n",
    "from lxml import etree \n",
    "import pickle\n",
    "import os\n",
    "from IPython.core.display import display, HTML\n",
    "\n",
    "class MySearcherC4V0:\n",
    "    \"\"\"\n",
    "    第四次课集成的搜索类初始版本\n",
    "    \"\"\"\n",
    "    def __init__(self):\n",
    "        self.docs = []\n",
    "        self.load_data()\n",
    "    \n",
    "    def load_data(self):\n",
    "        data_filename = 'news_list.dat'\n",
    "        if os.path.exists(data_filename):\n",
    "            with open(data_filename,'rb') as f:\n",
    "                self.docs += pickle.load(f)\n",
    "#                 self.docs = self.docs + pickle.load(f)\n",
    "        else:\n",
    "            url = 'http://news.163.com/special/0001386F/rank_tech.html'  \n",
    "            headers = {'user-agent': 'Mozilla/5.0 (Windows NT 10.0; Win64; x64) AppleWebKit/537.36 (KHTML, like Gecko) Chrome/85.0.4183.121 Safari/537.36 Edg/85.0.564.63'}\n",
    "            r = requests.get(url, headers=headers)  \n",
    "            sel = etree.HTML(r.text) \n",
    "            link_set = set()\n",
    "            news_list = []\n",
    "            count = 0\n",
    "            for item in sel.xpath('//td/a'):  \n",
    "                title = item.text\n",
    "                link = item.attrib['href']\n",
    "            #     print(link, title)\n",
    "                if link not in link_set:\n",
    "                    r = requests.get(link, headers=headers)  \n",
    "                    sel = etree.HTML(r.text)  \n",
    "                    text_block = sel.xpath('//div[@id=\"endText\"]') \n",
    "                #     print(''.join(text_block[0].itertext()))\n",
    "                    if text_block:\n",
    "                        content = ''.join(text_block[0].xpath('./p/text()'))\n",
    "                        title = sel.xpath('//h1/text()')[0]\n",
    "                        self.docs.append([link, title, content])\n",
    "                    link_set.add(link)\n",
    "                count += 1\n",
    "                if count % 15 == 0:\n",
    "                    print(count, 'processed.')\n",
    "            with open(data_filename,'wb') as f:\n",
    "                pickle.dump(self.docs, f)\n",
    "    \n",
    "    def search(self, keyword):\n",
    "        count = 0\n",
    "        sorted_result = []\n",
    "        keyword_l = keyword.lower()\n",
    "        for item in self.docs:\n",
    "            if keyword_l in (item[1] + item[2]).lower():\n",
    "        #         count += 1\n",
    "        #         print(count, highlight(title, keyword))\n",
    "                sorted_result.append([count, self.score(item, keyword)])\n",
    "            count += 1\n",
    "        sorted_result.sort(key=lambda x: x[1], reverse=True)\n",
    "        return sorted_result\n",
    "    \n",
    "    def highlight(self, text, keyword):\n",
    "        idx = text.lower().find(keyword.lower())\n",
    "        result = text\n",
    "        if idx >= 0:\n",
    "            ori_word = text[idx:idx+(len(keyword))]\n",
    "            result = text.replace(ori_word, '<span style=\"color:red\";>{}</span>'.format(ori_word))\n",
    "        return result\n",
    "    \n",
    "    def score(self, item, keyword):\n",
    "        return (item[1].lower().count(keyword.lower()) * 5 \n",
    "          + item[2].lower().count(keyword.lower()) * 3)\n",
    "    \n",
    "    def render_search_result(self, keyword):\n",
    "        count = 0\n",
    "        for item in self.search(keyword):\n",
    "            count += 1\n",
    "        #     print(count, '[{}] {}'.format(item[1], \n",
    "        #         highlight(news_list[item[0]][1], keyword)))\n",
    "            display(HTML('{} [{}] {}'.format(count, item[1], \n",
    "                self.highlight(self.docs[item[0]][1], keyword))))"
   ]
  },
  {
   "cell_type": "code",
   "execution_count": 8,
   "metadata": {},
   "outputs": [],
   "source": [
    "searcher = MySearcherC4V0()"
   ]
  },
  {
   "cell_type": "code",
   "execution_count": 10,
   "metadata": {},
   "outputs": [],
   "source": [
    "searcher.load_data()"
   ]
  },
  {
   "cell_type": "code",
   "execution_count": 11,
   "metadata": {},
   "outputs": [
    {
     "data": {
      "text/plain": [
       "578"
      ]
     },
     "execution_count": 11,
     "metadata": {},
     "output_type": "execute_result"
    }
   ],
   "source": [
    "len(searcher.docs)"
   ]
  },
  {
   "cell_type": "code",
   "execution_count": 34,
   "metadata": {},
   "outputs": [
    {
     "data": {
      "text/html": [
       "1 [92] 传<span style=\"color:red\";>华为</span>Mate40系列可能在10月22日发布，30日开售"
      ],
      "text/plain": [
       "<IPython.core.display.HTML object>"
      ]
     },
     "metadata": {},
     "output_type": "display_data"
    },
    {
     "data": {
      "text/html": [
       "2 [56] <span style=\"color:red\";>华为</span>在国内正加大力度投资芯片创企，培养供应链"
      ],
      "text/plain": [
       "<IPython.core.display.HTML object>"
      ]
     },
     "metadata": {},
     "output_type": "display_data"
    },
    {
     "data": {
      "text/html": [
       "3 [47] 打压不断！蹿访台湾后 美副国务卿访欧又施压：禁用<span style=\"color:red\";>华为</span>"
      ],
      "text/plain": [
       "<IPython.core.display.HTML object>"
      ]
     },
     "metadata": {},
     "output_type": "display_data"
    },
    {
     "data": {
      "text/html": [
       "4 [44] 富士康万元招人，新iPhone要和<span style=\"color:red\";>华为</span>\"绝版\"正面对决"
      ],
      "text/plain": [
       "<IPython.core.display.HTML object>"
      ]
     },
     "metadata": {},
     "output_type": "display_data"
    },
    {
     "data": {
      "text/html": [
       "5 [41] 日经：索尼和铠侠正积极申请<span style=\"color:red\";>华为</span>供货许可"
      ],
      "text/plain": [
       "<IPython.core.display.HTML object>"
      ]
     },
     "metadata": {},
     "output_type": "display_data"
    },
    {
     "data": {
      "text/html": [
       "6 [37] <span style=\"color:red\";>华为</span>宣布鸿蒙系统升级至2.0版本 明年<span style=\"color:red\";>华为</span>手机全面支持"
      ],
      "text/plain": [
       "<IPython.core.display.HTML object>"
      ]
     },
     "metadata": {},
     "output_type": "display_data"
    },
    {
     "data": {
      "text/html": [
       "7 [35] <span style=\"color:red\";>华为</span>：胡厚崑当值轮值董事长 当值期间是公司最高领袖"
      ],
      "text/plain": [
       "<IPython.core.display.HTML object>"
      ]
     },
     "metadata": {},
     "output_type": "display_data"
    },
    {
     "data": {
      "text/html": [
       "8 [33] 孟晚舟再次出庭 律师向法庭呈现美方《案件记录》的问题 "
      ],
      "text/plain": [
       "<IPython.core.display.HTML object>"
      ]
     },
     "metadata": {},
     "output_type": "display_data"
    },
    {
     "data": {
      "text/html": [
       "9 [29] 1.7万元！腾讯奖励万名员工每人一台<span style=\"color:red\";>华为</span>折叠屏手机"
      ],
      "text/plain": [
       "<IPython.core.display.HTML object>"
      ]
     },
     "metadata": {},
     "output_type": "display_data"
    },
    {
     "data": {
      "text/html": [
       "10 [26] 老年机摇身一变成“<span style=\"color:red\";>华为</span>”手机 半年卖了7000多台"
      ],
      "text/plain": [
       "<IPython.core.display.HTML object>"
      ]
     },
     "metadata": {},
     "output_type": "display_data"
    },
    {
     "data": {
      "text/html": [
       "11 [26] <span style=\"color:red\";>华为</span>：愿接受“解剖级”审查以自证产品无安全风险"
      ],
      "text/plain": [
       "<IPython.core.display.HTML object>"
      ]
     },
     "metadata": {},
     "output_type": "display_data"
    },
    {
     "data": {
      "text/html": [
       "12 [23] Counterpoint：8月三星反超<span style=\"color:red\";>华为</span> 重夺全球手机市场占有率首位"
      ],
      "text/plain": [
       "<IPython.core.display.HTML object>"
      ]
     },
     "metadata": {},
     "output_type": "display_data"
    },
    {
     "data": {
      "text/html": [
       "13 [23] 腾讯万名员工发<span style=\"color:red\";>华为</span>折叠屏手机：大部分假期后拿到"
      ],
      "text/plain": [
       "<IPython.core.display.HTML object>"
      ]
     },
     "metadata": {},
     "output_type": "display_data"
    },
    {
     "data": {
      "text/html": [
       "14 [23] <span style=\"color:red\";>华为</span>意大利总裁：准备接受彻底审查 证明不会构成安全威胁"
      ],
      "text/plain": [
       "<IPython.core.display.HTML object>"
      ]
     },
     "metadata": {},
     "output_type": "display_data"
    },
    {
     "data": {
      "text/html": [
       "15 [23] 德媒：德国不会在5G方面将<span style=\"color:red\";>华为</span>拒之门外，但会设限"
      ],
      "text/plain": [
       "<IPython.core.display.HTML object>"
      ]
     },
     "metadata": {},
     "output_type": "display_data"
    },
    {
     "data": {
      "text/html": [
       "16 [17] 向苹果看齐 \"谷歌税\"提上日程 <span style=\"color:red\";>华为</span>鸿蒙的机会来了?"
      ],
      "text/plain": [
       "<IPython.core.display.HTML object>"
      ]
     },
     "metadata": {},
     "output_type": "display_data"
    },
    {
     "data": {
      "text/html": [
       "17 [15] 传闻称麒麟9000处理器仅有880万颗 Mate40系列搭载"
      ],
      "text/plain": [
       "<IPython.core.display.HTML object>"
      ]
     },
     "metadata": {},
     "output_type": "display_data"
    },
    {
     "data": {
      "text/html": [
       "18 [15] 拼多多插入京东、苏宁腹地"
      ],
      "text/plain": [
       "<IPython.core.display.HTML object>"
      ]
     },
     "metadata": {},
     "output_type": "display_data"
    },
    {
     "data": {
      "text/html": [
       "19 [14] 国产手机厂商拿下全球半壁江山 <span style=\"color:red\";>华为</span>市场份额达20%"
      ],
      "text/plain": [
       "<IPython.core.display.HTML object>"
      ]
     },
     "metadata": {},
     "output_type": "display_data"
    },
    {
     "data": {
      "text/html": [
       "20 [14] <span style=\"color:red\";>华为</span>完成全球首个基于5G商用手机的5G NR广播试验"
      ],
      "text/plain": [
       "<IPython.core.display.HTML object>"
      ]
     },
     "metadata": {},
     "output_type": "display_data"
    },
    {
     "data": {
      "text/html": [
       "21 [14] 美三次施压葡萄牙禁用<span style=\"color:red\";>华为</span>5G 遭葡总统回绝"
      ],
      "text/plain": [
       "<IPython.core.display.HTML object>"
      ]
     },
     "metadata": {},
     "output_type": "display_data"
    },
    {
     "data": {
      "text/html": [
       "22 [12] 中芯国际确认遭美国出口限制！影响多大？如何应对？"
      ],
      "text/plain": [
       "<IPython.core.display.HTML object>"
      ]
     },
     "metadata": {},
     "output_type": "display_data"
    },
    {
     "data": {
      "text/html": [
       "23 [12] 中芯国际确认遭美国出口限制！影响多大？如何应对？"
      ],
      "text/plain": [
       "<IPython.core.display.HTML object>"
      ]
     },
     "metadata": {},
     "output_type": "display_data"
    },
    {
     "data": {
      "text/html": [
       "24 [11] 失去最大客户！美光：缺少<span style=\"color:red\";>华为</span>需求 2021年内存或供需失衡"
      ],
      "text/plain": [
       "<IPython.core.display.HTML object>"
      ]
     },
     "metadata": {},
     "output_type": "display_data"
    },
    {
     "data": {
      "text/html": [
       "25 [11] <span style=\"color:red\";>华为</span>海思启动2021届博士招聘 涉及多个岗位及芯片种类"
      ],
      "text/plain": [
       "<IPython.core.display.HTML object>"
      ]
     },
     "metadata": {},
     "output_type": "display_data"
    },
    {
     "data": {
      "text/html": [
       "26 [6] 北邮乔秀全：5G的消费级杀手应用可能诞生于XR设备"
      ],
      "text/plain": [
       "<IPython.core.display.HTML object>"
      ]
     },
     "metadata": {},
     "output_type": "display_data"
    },
    {
     "data": {
      "text/html": [
       "27 [3] 各方声讨苹果应用商店抽佣30% 但Epic起诉不一定赢"
      ],
      "text/plain": [
       "<IPython.core.display.HTML object>"
      ]
     },
     "metadata": {},
     "output_type": "display_data"
    },
    {
     "data": {
      "text/html": [
       "28 [3] 因安卓系统，路透：中国准备对谷歌发起反垄断调查"
      ],
      "text/plain": [
       "<IPython.core.display.HTML object>"
      ]
     },
     "metadata": {},
     "output_type": "display_data"
    }
   ],
   "source": [
    "searcher.render_search_result('华为')"
   ]
  },
  {
   "cell_type": "code",
   "execution_count": 24,
   "metadata": {},
   "outputs": [],
   "source": [
    "class MySearcherC5V1(MySearcherC4V0):\n",
    "    \"\"\"\n",
    "    增加初始化参数scale，用于倍增文档集\n",
    "    \"\"\"\n",
    "    def __init__(self, scale=1):\n",
    "        self.docs = []\n",
    "        self.load_data()\n",
    "        self.docs *= scale"
   ]
  },
  {
   "cell_type": "code",
   "execution_count": 37,
   "metadata": {},
   "outputs": [
    {
     "name": "stdout",
     "output_type": "stream",
     "text": [
      "Wall time: 12.5 ms\n"
     ]
    }
   ],
   "source": [
    "%%time\n",
    "searcher = MySearcherC5V1(200)"
   ]
  },
  {
   "cell_type": "code",
   "execution_count": 31,
   "metadata": {},
   "outputs": [
    {
     "data": {
      "text/plain": [
       "578000"
      ]
     },
     "execution_count": 31,
     "metadata": {},
     "output_type": "execute_result"
    }
   ],
   "source": [
    "len(searcher.docs)"
   ]
  },
  {
   "cell_type": "code",
   "execution_count": 38,
   "metadata": {},
   "outputs": [
    {
     "name": "stdout",
     "output_type": "stream",
     "text": [
      "Wall time: 1.6 s\n"
     ]
    }
   ],
   "source": [
    "%%time\n",
    "r = searcher.search('华为')"
   ]
  },
  {
   "cell_type": "code",
   "execution_count": 39,
   "metadata": {},
   "outputs": [],
   "source": [
    "import timeit"
   ]
  },
  {
   "cell_type": "code",
   "execution_count": 44,
   "metadata": {},
   "outputs": [
    {
     "data": {
      "text/plain": [
       "'1.618'"
      ]
     },
     "execution_count": 44,
     "metadata": {},
     "output_type": "execute_result"
    }
   ],
   "source": [
    "\"%0.3f\" % timeit.timeit(\n",
    "    stmt=\"r = searcher.search('华为')\",\n",
    "    number=1,\n",
    "    globals=globals()\n",
    "             )"
   ]
  },
  {
   "cell_type": "code",
   "execution_count": 49,
   "metadata": {},
   "outputs": [],
   "source": [
    "searcher_1x = MySearcherC5V1(1)\n",
    "searcher_10x = MySearcherC5V1(10)\n",
    "searcher_100x = MySearcherC5V1(100)\n",
    "searcher_1000x = MySearcherC5V1(1000)"
   ]
  },
  {
   "cell_type": "code",
   "execution_count": 51,
   "metadata": {},
   "outputs": [
    {
     "name": "stdout",
     "output_type": "stream",
     "text": [
      "1x\t 0.011\n",
      "10x\t 0.106\n",
      "100x\t 0.807\n",
      "1000x\t 7.794\n"
     ]
    }
   ],
   "source": [
    "print('1x\\t', \"%0.3f\" % timeit.timeit(\n",
    "    stmt=\"r = searcher_1x.search('华为')\",\n",
    "    number=1,\n",
    "    globals=globals()\n",
    "             ))\n",
    "print('10x\\t', \"%0.3f\" % timeit.timeit(\n",
    "    stmt=\"r = searcher_10x.search('华为')\",\n",
    "    number=1,\n",
    "    globals=globals()\n",
    "             ))\n",
    "print('100x\\t', \"%0.3f\" % timeit.timeit(\n",
    "    stmt=\"r = searcher_100x.search('华为')\",\n",
    "    number=1,\n",
    "    globals=globals()\n",
    "             ))\n",
    "print('1000x\\t', \"%0.3f\" % timeit.timeit(\n",
    "    stmt=\"r = searcher_1000x.search('华为')\",\n",
    "    number=1,\n",
    "    globals=globals()\n",
    "             ))"
   ]
  },
  {
   "cell_type": "code",
   "execution_count": 52,
   "metadata": {},
   "outputs": [
    {
     "name": "stdout",
     "output_type": "stream",
     "text": [
      "10x1\t 0.098\n",
      "10x100\t 7.868\n",
      "10x1000\t 77.826\n"
     ]
    }
   ],
   "source": [
    "print('10x1\\t', \"%0.3f\" % timeit.timeit(\n",
    "    stmt=\"r = searcher_10x.search('华为')\",\n",
    "    number=1,\n",
    "    globals=globals()\n",
    "             ))\n",
    "print('10x100\\t', \"%0.3f\" % timeit.timeit(\n",
    "    stmt=\"r = searcher_10x.search('华为')\",\n",
    "    number=100,\n",
    "    globals=globals()\n",
    "             ))\n",
    "print('10x1000\\t', \"%0.3f\" % timeit.timeit(\n",
    "    stmt=\"r = searcher_10x.search('华为')\",\n",
    "    number=1000,\n",
    "    globals=globals()\n",
    "             ))"
   ]
  },
  {
   "cell_type": "code",
   "execution_count": 55,
   "metadata": {},
   "outputs": [],
   "source": [
    "class MySearcherC5V2(MySearcherC5V1):\n",
    "    \"\"\"\n",
    "    增加缓存机制，避免重复匹配相同关键词\n",
    "    \"\"\"\n",
    "    def __init__(self, scale=1):\n",
    "        self.docs = []\n",
    "        self.load_data()\n",
    "        self.docs *= scale\n",
    "        self.cache = {}\n",
    "        \n",
    "    def search(self, keyword):\n",
    "        keyword_l = keyword.lower()\n",
    "        if keyword_l in self.cache:\n",
    "            sorted_result = self.cache[keyword_l] \n",
    "        else:\n",
    "            count = 0\n",
    "            sorted_result = []\n",
    "            for item in self.docs:\n",
    "                if keyword_l in (item[1] + item[2]).lower():\n",
    "            #         count += 1\n",
    "            #         print(count, highlight(title, keyword))\n",
    "                    sorted_result.append([count, self.score(item, keyword)])\n",
    "                count += 1\n",
    "            sorted_result.sort(key=lambda x: x[1], reverse=True)\n",
    "            self.cache[keyword_l] = sorted_result\n",
    "        return sorted_result"
   ]
  },
  {
   "cell_type": "code",
   "execution_count": 56,
   "metadata": {},
   "outputs": [
    {
     "name": "stdout",
     "output_type": "stream",
     "text": [
      "Wall time: 31.8 ms\n"
     ]
    }
   ],
   "source": [
    "%%time\n",
    "searcher_1x    = MySearcherC5V2(1)\n",
    "searcher_10x   = MySearcherC5V2(10)\n",
    "searcher_100x  = MySearcherC5V2(100)\n",
    "searcher_1000x = MySearcherC5V2(1000)"
   ]
  },
  {
   "cell_type": "code",
   "execution_count": 58,
   "metadata": {},
   "outputs": [
    {
     "name": "stdout",
     "output_type": "stream",
     "text": [
      "10000x1\t 6.985\n",
      "10000x100\t 0.000\n",
      "10000x1000\t 0.001\n"
     ]
    }
   ],
   "source": [
    "print('10000x1\\t', \"%0.3f\" % timeit.timeit(\n",
    "    stmt=\"r = searcher_1000x.search('华为')\",\n",
    "    number=1,\n",
    "    globals=globals()\n",
    "             ))\n",
    "print('10000x100\\t', \"%0.3f\" % timeit.timeit(\n",
    "    stmt=\"r = searcher_1000x.search('华为')\",\n",
    "    number=100,\n",
    "    globals=globals()\n",
    "             ))\n",
    "print('10000x1000\\t', \"%0.3f\" % timeit.timeit(\n",
    "    stmt=\"r = searcher_1000x.search('华为')\",\n",
    "    number=1000,\n",
    "    globals=globals()\n",
    "             ))"
   ]
  },
  {
   "cell_type": "code",
   "execution_count": 62,
   "metadata": {},
   "outputs": [],
   "source": [
    "class MySearcherC5V3(MySearcherC5V2):\n",
    "    \"\"\"\n",
    "    增加线下缓存预填充机制，用猜测得到的用户查询词预填充\n",
    "    \"\"\"\n",
    "    def __init__(self, scale=1):\n",
    "        self.docs = []\n",
    "        self.load_data()\n",
    "        self.docs *= scale\n",
    "        self.cache = {}\n",
    "        self.vocab = set(['华为', '苹果', 'tiktok'])\n",
    "        self.build_cache()\n",
    "        \n",
    "    def build_cache(self):\n",
    "        for word in self.vocab:\n",
    "            r = self.search(word)"
   ]
  },
  {
   "cell_type": "code",
   "execution_count": 63,
   "metadata": {},
   "outputs": [
    {
     "name": "stdout",
     "output_type": "stream",
     "text": [
      "Wall time: 19.7 s\n"
     ]
    }
   ],
   "source": [
    "%%time\n",
    "searcher_1000x = MySearcherC5V3(1000)"
   ]
  },
  {
   "cell_type": "code",
   "execution_count": 65,
   "metadata": {},
   "outputs": [
    {
     "name": "stdout",
     "output_type": "stream",
     "text": [
      "10000x1\t 7.964\n",
      "10000x100\t 0.000\n",
      "10000x1000\t 0.001\n"
     ]
    }
   ],
   "source": [
    "print('10000x1\\t', \"%0.3f\" % timeit.timeit(\n",
    "    stmt=\"r = searcher_1000x.search('手机')\",\n",
    "    number=1,\n",
    "    globals=globals()\n",
    "             ))\n",
    "print('10000x100\\t', \"%0.3f\" % timeit.timeit(\n",
    "    stmt=\"r = searcher_1000x.search('手机')\",\n",
    "    number=100,\n",
    "    globals=globals()\n",
    "             ))\n",
    "print('10000x1000\\t', \"%0.3f\" % timeit.timeit(\n",
    "    stmt=\"r = searcher_1000x.search('手机')\",\n",
    "    number=1000,\n",
    "    globals=globals()\n",
    "             ))"
   ]
  },
  {
   "cell_type": "code",
   "execution_count": 66,
   "metadata": {},
   "outputs": [
    {
     "data": {
      "text/plain": [
       "[]"
      ]
     },
     "execution_count": 66,
     "metadata": {},
     "output_type": "execute_result"
    }
   ],
   "source": [
    "searcher_1000x.search('阿仙奴')"
   ]
  },
  {
   "cell_type": "code",
   "execution_count": 68,
   "metadata": {},
   "outputs": [
    {
     "data": {
      "text/plain": [
       "['https://tech.163.com/20/1013/15/FOR1CSJ8000999LD.html',\n",
       " '日媒拆解华为5G基站：中企零部件约占一半 美零部件占3成',\n",
       " '\\n                        （原标题：日媒拆解华为5G基站：中企设计零部件约占一半 美国零部件占3成）\\n                    原标题：日媒拆解华为5G基站：美国零部件占3成IT之家10月13日消息 据日经中文网报道，美国政府9月15日强化了禁止向华为供应使用美国技术的半导体，这也对华为全球份额居首的通信基站产生了影响。近日日本经济新闻在专业调查公司Fomalhaut Techno Solutions（东京都江东区）的协助下，拆解并分析了华为的最新5G基站中被称为基带的核心装置。IT之家了解到，拆解发现，在基站的1320美元估算成本中，。由于美国加强管制，这些零部件有可能无法使用。另外，。其中“FPGA”半导体为美国莱迪思半导体（Lattice Semiconductor）和赛灵思（Xilinx）公司的产品。对基站不可缺少的电源进行控制的半导体是美国德州仪器（TI）和安森美半导体（ONSemiconductor）等的产品。此外，韩国零部件的使用数量仅次于美国，内存由三星电子制造，日本企业的零部件只有TDK和精工爱普生等的产品。']"
      ]
     },
     "execution_count": 68,
     "metadata": {},
     "output_type": "execute_result"
    }
   ],
   "source": [
    "searcher_1x.docs[0]"
   ]
  },
  {
   "cell_type": "code",
   "execution_count": null,
   "metadata": {},
   "outputs": [],
   "source": [
    "日媒 拆解 华为 5G 基站 ： 中企 零部件 约 占 一半 美 零部件 占 3 成"
   ]
  },
  {
   "cell_type": "code",
   "execution_count": 69,
   "metadata": {},
   "outputs": [],
   "source": [
    "import jieba"
   ]
  },
  {
   "cell_type": "code",
   "execution_count": 71,
   "metadata": {},
   "outputs": [
    {
     "name": "stderr",
     "output_type": "stream",
     "text": [
      "Building prefix dict from the default dictionary ...\n",
      "Dumping model to file cache C:\\Users\\CHENGU~1\\AppData\\Local\\Temp\\jieba.cache\n",
      "Loading model cost 2.859 seconds.\n",
      "Prefix dict has been built successfully.\n"
     ]
    },
    {
     "data": {
      "text/plain": [
       "'日媒 拆解 华为 5G 基站 ： 中企 零部件 约 占 一半   美 零部件 占 3 成'"
      ]
     },
     "execution_count": 71,
     "metadata": {},
     "output_type": "execute_result"
    }
   ],
   "source": [
    "' '.join(jieba.cut(\n",
    "    '日媒拆解华为5G基站：中企零部件约占一半 美零部件占3成'))"
   ]
  },
  {
   "cell_type": "code",
   "execution_count": 74,
   "metadata": {},
   "outputs": [],
   "source": [
    "class MySearcherC5V4(MySearcherC5V3):\n",
    "    \"\"\"\n",
    "    用文档分词得到的词表进行缓存预填充\n",
    "    \"\"\"\n",
    "    def __init__(self, scale=1):\n",
    "        self.docs = []\n",
    "        self.load_data()\n",
    "        self.docs *= scale\n",
    "        self.cache = {}\n",
    "        self.vocab = set()\n",
    "        self.build_cache()\n",
    "        \n",
    "    def build_cache(self):\n",
    "        for doc in self.docs:\n",
    "            for word in jieba.cut(\n",
    "                doc[1] +' ' + doc[2]\n",
    "            ):\n",
    "                r = self.search(word)\n",
    "                self.vocab.add(word)\n"
   ]
  },
  {
   "cell_type": "code",
   "execution_count": 75,
   "metadata": {},
   "outputs": [
    {
     "name": "stdout",
     "output_type": "stream",
     "text": [
      "Wall time: 1min 56s\n"
     ]
    }
   ],
   "source": [
    "%%time\n",
    "searcher_1x = MySearcherC5V4(1)"
   ]
  },
  {
   "cell_type": "code",
   "execution_count": null,
   "metadata": {},
   "outputs": [],
   "source": []
  }
 ],
 "metadata": {
  "kernelspec": {
   "display_name": "Python 3",
   "language": "python",
   "name": "python3"
  },
  "language_info": {
   "codemirror_mode": {
    "name": "ipython",
    "version": 3
   },
   "file_extension": ".py",
   "mimetype": "text/x-python",
   "name": "python",
   "nbconvert_exporter": "python",
   "pygments_lexer": "ipython3",
   "version": "3.8.2"
  }
 },
 "nbformat": 4,
 "nbformat_minor": 4
}
